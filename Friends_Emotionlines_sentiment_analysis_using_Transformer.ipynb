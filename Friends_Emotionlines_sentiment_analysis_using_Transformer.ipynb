{
  "nbformat": 4,
  "nbformat_minor": 0,
  "metadata": {
    "colab": {
      "name": "Friends Emotionlines sentiment analysis using Transformer.ipynb",
      "provenance": [],
      "collapsed_sections": []
    },
    "kernelspec": {
      "display_name": "Python 3",
      "language": "python",
      "name": "python3"
    },
    "language_info": {
      "codemirror_mode": {
        "name": "ipython",
        "version": 3
      },
      "file_extension": ".py",
      "mimetype": "text/x-python",
      "name": "python",
      "nbconvert_exporter": "python",
      "pygments_lexer": "ipython3",
      "version": "3.7.0"
    },
    "accelerator": "GPU"
  },
  "cells": [
    {
      "cell_type": "markdown",
      "metadata": {
        "colab_type": "text",
        "id": "QcR8PpNz_DSO"
      },
      "source": [
        "# Friends Emotionlines sentiment analysis using Transformer\n",
        "\n",
        "참고자료: https://github.com/Parkchanjun/KU-NLP-2020-1/blob/master/%5B4%5D%20Transformer%EB%A5%BC_%EC%9D%B4%EC%9A%A9%ED%95%9C_%EA%B0%90%EC%A0%95%EB%B6%84%EC%84%9D_%EC%98%81%EC%96%B4.ipynb\n"
      ]
    },
    {
      "cell_type": "markdown",
      "metadata": {
        "colab_type": "text",
        "id": "gjvMHpSS_DSv"
      },
      "source": [
        "## Multi head Attention\n"
      ]
    },
    {
      "cell_type": "code",
      "metadata": {
        "colab_type": "code",
        "id": "bIcpQjI__DSy",
        "colab": {}
      },
      "source": [
        "import tensorflow as tf\n",
        "from tensorflow import keras\n",
        "from tensorflow.keras import layers\n",
        "\n",
        "class MultiHeadSelfAttention(layers.Layer):\n",
        "    def __init__(self, embed_dim, num_heads=8):\n",
        "        super(MultiHeadSelfAttention, self).__init__()\n",
        "        self.embed_dim = embed_dim\n",
        "        self.num_heads = num_heads\n",
        "        if embed_dim % num_heads != 0: \n",
        "            raise ValueError(\n",
        "                f\"embedding dimension = {embed_dim} should be divisible by number of heads = {num_heads}\"\n",
        "            )\n",
        "        self.projection_dim = embed_dim // num_heads \n",
        "        #Multi-head Attention에서는 query, key, value를 바로 사용하는 것이 아닌 h번의 Linear projection을 따라 서로 다른 representation의 조합으로부터 Attention을 계산하는 방법이다. \n",
        "        self.query_dense = layers.Dense(embed_dim) #쿼리\n",
        "        self.key_dense = layers.Dense(embed_dim) #키\n",
        "        self.value_dense = layers.Dense(embed_dim) #밸류\n",
        "        self.combine_heads = layers.Dense(embed_dim) #concat\n",
        "\n",
        "    def attention(self, query, key, value):\n",
        "        score = tf.matmul(query, key, transpose_b=True) #Q와 K를 곱한다.\n",
        "        dim_key = tf.cast(tf.shape(key)[-1], tf.float32) #텐서를 새로운 자료형으로 변환합니다.(tf.shape(key)[-1] = 그냥 입력되는 차원)\n",
        "        scaled_score = score / tf.math.sqrt(dim_key) #Sclae 작업, K차원의 루트값으로\n",
        "        weights = tf.nn.softmax(scaled_score, axis=-1) #Softmax\n",
        "        output = tf.matmul(weights, value) #V 곱하기\n",
        "        return output, weights \n",
        "\n",
        "    def separate_heads(self, x, batch_size):\n",
        "        x = tf.reshape(x, (batch_size, -1, self.num_heads, self.projection_dim)) #Multihead Attention , -1은 sequence length\n",
        "        return tf.transpose(x, perm=[0, 2, 1, 3]) #x를 전치합니다. perm에 따라 차원의 순서를 구성합니다.\n",
        "\n",
        "    def call(self, inputs):\n",
        "        # x.shape = [batch_size, seq_len, embedding_dim]\n",
        "        batch_size = tf.shape(inputs)[0] #batch size\n",
        "        query = self.query_dense(inputs)  # (batch_size, seq_len, embed_dim)\n",
        "        key = self.key_dense(inputs)  # (batch_size, seq_len, embed_dim)\n",
        "        value = self.value_dense(inputs)  # (batch_size, seq_len, embed_dim)\n",
        "        query = self.separate_heads(\n",
        "            query, batch_size\n",
        "        )  # (batch_size, num_heads, seq_len, projection_dim) => tf.transpose(x, perm=[0, 2, 1, 3])의 결과\n",
        "        key = self.separate_heads(\n",
        "            key, batch_size\n",
        "        )  # (batch_size, num_heads, seq_len, projection_dim)\n",
        "        value = self.separate_heads(\n",
        "            value, batch_size\n",
        "        )  # (batch_size, num_heads, seq_len, projection_dim)\n",
        "        attention, weights = self.attention(query, key, value) #Self Attention\n",
        "        attention = tf.transpose(\n",
        "            attention, perm=[0, 2, 1, 3]\n",
        "        )  # (batch_size, seq_len, num_heads, projection_dim)\n",
        "        concat_attention = tf.reshape(\n",
        "            attention, (batch_size, -1, self.embed_dim)\n",
        "        )  # (batch_size, seq_len, embed_dim), multi head값들을 concat하는 과정\n",
        "        output = self.combine_heads(\n",
        "            concat_attention\n",
        "        )  # (batch_size, seq_len, embed_dim)\n",
        "        return output\n",
        "\n"
      ],
      "execution_count": 2,
      "outputs": []
    },
    {
      "cell_type": "markdown",
      "metadata": {
        "colab_type": "text",
        "id": "d1jlqiEx_DTE"
      },
      "source": [
        "## Transformer Layer\n"
      ]
    },
    {
      "cell_type": "code",
      "metadata": {
        "colab_type": "code",
        "id": "mJh4zMyQ_DTH",
        "colab": {}
      },
      "source": [
        "class TransformerBlock(layers.Layer):\n",
        "    def __init__(self, embed_dim, num_heads, ff_dim, rate=0.1):\n",
        "        super(TransformerBlock, self).__init__()\n",
        "        self.att = MultiHeadSelfAttention(embed_dim, num_heads)\n",
        "        self.ffn = keras.Sequential(\n",
        "            [layers.Dense(ff_dim, activation=\"relu\"), layers.Dense(embed_dim),]\n",
        "        )\n",
        "        self.layernorm1 = layers.LayerNormalization(epsilon=1e-6)\n",
        "        self.layernorm2 = layers.LayerNormalization(epsilon=1e-6)\n",
        "        self.dropout1 = layers.Dropout(rate)\n",
        "        self.dropout2 = layers.Dropout(rate)\n",
        "\n",
        "    def call(self, inputs, training):\n",
        "        attn_output = self.att(inputs) #Multihead Attn 블록\n",
        "        attn_output = self.dropout1(attn_output, training=training) #드롭아웃\n",
        "        out1 = self.layernorm1(inputs + attn_output) #LM + Residual\n",
        "        ffn_output = self.ffn(out1) #FF 블록\n",
        "        ffn_output = self.dropout2(ffn_output, training=training) #드롭아웃\n",
        "        return self.layernorm2(out1 + ffn_output) #LM + Residual\n",
        "\n"
      ],
      "execution_count": 3,
      "outputs": []
    },
    {
      "cell_type": "markdown",
      "metadata": {
        "colab_type": "text",
        "id": "Do6Cllg7_DTY"
      },
      "source": [
        "## 임베딩 Layer\n"
      ]
    },
    {
      "cell_type": "code",
      "metadata": {
        "colab_type": "code",
        "id": "bfIfxHp4_DTb",
        "colab": {}
      },
      "source": [
        "class TokenAndPositionEmbedding(layers.Layer):\n",
        "    def __init__(self, maxlen, vocab_size, emded_dim):\n",
        "        super(TokenAndPositionEmbedding, self).__init__()\n",
        "        self.token_emb = layers.Embedding(input_dim=vocab_size, output_dim=emded_dim)\n",
        "        self.pos_emb = layers.Embedding(input_dim=maxlen, output_dim=emded_dim)\n",
        "\n",
        "    def call(self, x):\n",
        "        maxlen = tf.shape(x)[-1]\n",
        "        positions = tf.range(start=0, limit=maxlen, delta=1) #포지션 정보\n",
        "        positions = self.pos_emb(positions) #포지션 임베딩\n",
        "        x = self.token_emb(x) #토큰임베딩\n",
        "        return x + positions #합치기"
      ],
      "execution_count": 4,
      "outputs": []
    },
    {
      "cell_type": "markdown",
      "metadata": {
        "id": "GnyKIboGoPyy",
        "colab_type": "text"
      },
      "source": [
        "## 데이터 다운\n",
        "\n"
      ]
    },
    {
      "cell_type": "code",
      "metadata": {
        "id": "sHWDtslFoXEu",
        "colab_type": "code",
        "colab": {
          "base_uri": "https://localhost:8080/",
          "height": 161
        },
        "outputId": "7a46da99-f063-4d72-ac5e-3cc43e2569ab"
      },
      "source": [
        "from google.colab import drive\n",
        "drive.mount('/content/drive')\n",
        "#밑에 나오는 'Go to ths URL in a browser: '에 나타난 url로 가서 허용하고 그 코드 밑에 복사하고 엔터 하시면 됩니다\n",
        "#friends파일이 커서 데이터를 구글드라이브에 저장하고 거기서 불러오는 방식으로 했습니다.\n",
        "\"\"\"\n",
        "friends파일(유니코드 제거ver)\n",
        "friends_test.json  https://drive.google.com/file/d/10rCWTr2OMoiw3JJDja-9e1kwoETvoDmF/view?usp=sharing, \n",
        "friends_train.json     https://drive.google.com/file/d/1XMtL50HI3h4X-3a7hIKw9s4G9VdevDIQ/view?usp=sharing, \n",
        "friends_dev.json     https://drive.google.com/file/d/1gdx-PO4vDmO7ngI5Z05QZs3etOcui-cg/view?usp=sharing\n",
        "\"\"\"\n",
        "#위 주소에서 받고 압축풀어서 자신의 구글드라이브에 업로드 해주세요"
      ],
      "execution_count": 5,
      "outputs": [
        {
          "output_type": "stream",
          "text": [
            "Go to this URL in a browser: https://accounts.google.com/o/oauth2/auth?client_id=947318989803-6bn6qk8qdgf4n4g3pfee6491hc0brc4i.apps.googleusercontent.com&redirect_uri=urn%3aietf%3awg%3aoauth%3a2.0%3aoob&response_type=code&scope=email%20https%3a%2f%2fwww.googleapis.com%2fauth%2fdocs.test%20https%3a%2f%2fwww.googleapis.com%2fauth%2fdrive%20https%3a%2f%2fwww.googleapis.com%2fauth%2fdrive.photos.readonly%20https%3a%2f%2fwww.googleapis.com%2fauth%2fpeopleapi.readonly\n",
            "\n",
            "Enter your authorization code:\n",
            "··········\n",
            "Mounted at /content/drive\n"
          ],
          "name": "stdout"
        },
        {
          "output_type": "execute_result",
          "data": {
            "application/vnd.google.colaboratory.intrinsic": {
              "type": "string"
            },
            "text/plain": [
              "'\\nfriends파일(유니코드 제거ver)\\nfriends_test.json  https://drive.google.com/file/d/10rCWTr2OMoiw3JJDja-9e1kwoETvoDmF/view?usp=sharing, \\nfriends_train.json     https://drive.google.com/file/d/1XMtL50HI3h4X-3a7hIKw9s4G9VdevDIQ/view?usp=sharing, \\nfriends_dev.json     https://drive.google.com/file/d/1gdx-PO4vDmO7ngI5Z05QZs3etOcui-cg/view?usp=sharing\\n'"
            ]
          },
          "metadata": {
            "tags": []
          },
          "execution_count": 5
        }
      ]
    },
    {
      "cell_type": "markdown",
      "metadata": {
        "colab_type": "text",
        "id": "Sru5nYdR_DTp"
      },
      "source": [
        "## 데이터셋 준비\n"
      ]
    },
    {
      "cell_type": "code",
      "metadata": {
        "id": "vHhazHlEtHCI",
        "colab_type": "code",
        "colab": {
          "base_uri": "https://localhost:8080/",
          "height": 87
        },
        "outputId": "74ef32b2-715c-403f-d181-29a534264e5d"
      },
      "source": [
        "import os\n",
        "import numpy as np\n",
        "import nltk\n",
        "import json\n",
        "from keras.utils import to_categorical ##One-Hot-Encoding을 매우 쉽게 해주는 함수\n",
        "from keras.preprocessing.text import Tokenizer\n",
        "from keras.preprocessing.sequence import pad_sequences\n",
        "nltk.download('punkt')\n"
      ],
      "execution_count": 6,
      "outputs": [
        {
          "output_type": "stream",
          "text": [
            "Using TensorFlow backend.\n"
          ],
          "name": "stderr"
        },
        {
          "output_type": "stream",
          "text": [
            "[nltk_data] Downloading package punkt to /root/nltk_data...\n",
            "[nltk_data]   Unzipping tokenizers/punkt.zip.\n"
          ],
          "name": "stdout"
        },
        {
          "output_type": "execute_result",
          "data": {
            "text/plain": [
              "True"
            ]
          },
          "metadata": {
            "tags": []
          },
          "execution_count": 6
        }
      ]
    },
    {
      "cell_type": "code",
      "metadata": {
        "colab_type": "code",
        "id": "kAU_Fpdr_DTr",
        "colab": {
          "base_uri": "https://localhost:8080/",
          "height": 826
        },
        "outputId": "ba7f78e2-c398-4ff1-dac1-fb226e33bcf9"
      },
      "source": [
        "def tokenize():\n",
        "    sentiment = ['neutral', 'joy', 'sadness', 'fear', 'anger', 'surprise', 'disgust', 'non-neutral']\n",
        "\n",
        "    sentiment2index = {}\n",
        "    for voca in sentiment:\n",
        "        if voca not in sentiment2index.keys():\n",
        "            sentiment2index[voca] = len(sentiment2index)\n",
        "    return sentiment2index\n",
        "\n",
        "def read_dataset(dataset_type):\n",
        "    max_seq_len = 0\n",
        "    with open(dataset_type, \"r\", encoding=\"utf-8\") as file_handler:\n",
        "        json_2_line = json.load(file_handler)\n",
        "        labels, sentences = [], []\n",
        "        for line in json_2_line:\n",
        "            for i in range(len(line)):\n",
        "                sentence = line[i]['utterance']\n",
        "                sentences.append(sentence)\n",
        "\n",
        "                tok_sentence = nltk.word_tokenize(sentence)\n",
        "                tok_key = nltk.word_tokenize(line[i]['emotion'])\n",
        "                labels.append(sentiment2index[tok_key[0]])\n",
        "\n",
        "                max_seq_len = max(max_seq_len, len(tok_sentence))\n",
        "\n",
        "    return labels, sentences, max_seq_len\n",
        "\n",
        "\n",
        "sentiment2index = tokenize()\n",
        "##여기서 위에서 받은 구글드라이브에 있는 파일 경로 적어주면 됩니다\n",
        "##왼쪽에 drive 폴더에 들어가서 friends 파일 찾고 오른쪽마우스로 '경로 복사'해서 붙여넣기\n",
        "TRAIN_LABELS, TRAIN_SENTENCES, TRAIN_MAX_SEQ_LEN = read_dataset(\"/content/drive/My Drive/Colab Notebooks/Friends/friends_train.json\") #학습데이터 읽기\n",
        "TEST_LABELS, TEST_SENTENCES, TEST_MAX_SEQ_LEN = read_dataset(\"/content/drive/My Drive/Colab Notebooks/Friends/friends_test.json\") #테스트데이터 읽기\n",
        "print(len(TRAIN_LABELS))\n",
        "print(len(TEST_LABELS))\n",
        "MAX_SEQUENCE_LEN = max(TRAIN_MAX_SEQ_LEN, TEST_MAX_SEQ_LEN) #Train과 Test 전체에서 가장 긴 길이\n",
        "#print(TEST_LABELS)\n",
        "#x_train=make_one_hot(train_data)\n",
        "#x_test=make_one_hot(test_data)\n",
        "\n",
        "#one-hot encoding\n",
        "TRAIN_LABELS=to_categorical(TRAIN_LABELS) \n",
        "TEST_LABELS=to_categorical(TEST_LABELS) \n",
        "\n",
        "\n",
        "print(\"Train : \", len(TRAIN_SENTENCES))\n",
        "for train_label, train_sent in zip(TRAIN_LABELS, TRAIN_SENTENCES[0:30]):\n",
        "  print(train_label, ':' ,train_sent)\n",
        "\n",
        "print()\n",
        "print(\"Test : \", len(TEST_SENTENCES))\n",
        "for test_label, test_sent in zip(TEST_LABELS, TEST_SENTENCES[0:10]):\n",
        "  print(test_label, ':' ,test_sent)\n",
        "\n",
        "print(\"MAX_SEQUENCE_LEN\", MAX_SEQUENCE_LEN)"
      ],
      "execution_count": 7,
      "outputs": [
        {
          "output_type": "stream",
          "text": [
            "10561\n",
            "2764\n",
            "Train :  10561\n",
            "[1. 0. 0. 0. 0. 0. 0. 0.] : also I was the point person on my companys transition from the KL-5 to GR-6 system.\n",
            "[1. 0. 0. 0. 0. 0. 0. 0.] : You mustve had your hands full.\n",
            "[1. 0. 0. 0. 0. 0. 0. 0.] : That I did. That I did.\n",
            "[1. 0. 0. 0. 0. 0. 0. 0.] : So lets talk a little bit about your duties.\n",
            "[0. 0. 0. 0. 0. 1. 0. 0.] : My duties?  All right.\n",
            "[1. 0. 0. 0. 0. 0. 0. 0.] : Now youll be heading a whole division, so youll have a lot of duties.\n",
            "[1. 0. 0. 0. 0. 0. 0. 0.] : I see.\n",
            "[1. 0. 0. 0. 0. 0. 0. 0.] : But therell be perhaps 30 people under you so you can dump a certain amount on them.\n",
            "[1. 0. 0. 0. 0. 0. 0. 0.] : Good to know.\n",
            "[1. 0. 0. 0. 0. 0. 0. 0.] : We can go into detail\n",
            "[0. 0. 0. 1. 0. 0. 0. 0.] : No dont I beg of you!\n",
            "[1. 0. 0. 0. 0. 0. 0. 0.] : All right then, well have a definite answer for you on Monday, but I think I can say with some confidence, youll fit in well here.\n",
            "[0. 0. 0. 0. 0. 1. 0. 0.] : Really?!\n",
            "[1. 0. 0. 0. 0. 0. 0. 0.] : Absolutely.  You can relax; you did great.\n",
            "[0. 0. 0. 0. 0. 1. 0. 0.] : But then who? The waitress I went out with last month?\n",
            "[0. 0. 0. 0. 0. 0. 0. 1.] : You know? Forget it!\n",
            "[0. 0. 0. 0. 0. 1. 0. 0.] : No-no-no-no, no! Who, who were you talking about?\n",
            "[0. 0. 0. 0. 0. 0. 0. 1.] : No, I-I-I-I don't, I actually don't know\n",
            "[1. 0. 0. 0. 0. 0. 0. 0.] : Ok!\n",
            "[1. 0. 0. 0. 0. 0. 0. 0.] : All right, well...\n",
            "[0. 0. 0. 0. 0. 0. 0. 1.] : I'm gonna see if I can get a room for the night and I'll...\n",
            "[0. 0. 0. 0. 0. 0. 0. 1.] : I'll see you later!\n",
            "[1. 0. 0. 0. 0. 0. 0. 0.] : Yeah, sure!\n",
            "[1. 0. 0. 0. 0. 0. 0. 0.] : Hey, Mon.\n",
            "[1. 0. 0. 0. 0. 0. 0. 0.] : Hey-hey-hey. You wanna hear something that sucks.\n",
            "[0. 1. 0. 0. 0. 0. 0. 0.] : Do I ever.\n",
            "[0. 0. 1. 0. 0. 0. 0. 0.] : Chris says theyre closing down the bar.\n",
            "[0. 0. 0. 0. 0. 1. 0. 0.] : No way!\n",
            "[1. 0. 0. 0. 0. 0. 0. 0.] : Yeah, apparently theyre turning it into some kinda coffee place.\n",
            "[0. 0. 0. 0. 0. 0. 0. 1.] : Just coffee! Where are we gonna hang out now?\n",
            "\n",
            "Test :  2764\n",
            "[0. 0. 0. 0. 0. 1. 0. 0.] : Why do all youre coffee mugs have numbers on the bottom?\n",
            "[0. 0. 0. 0. 0. 0. 0. 1.] : Oh. Thats so Monica can keep track. That way if one on them is missing, she can be like, Wheres number 27?!\n",
            "[1. 0. 0. 0. 0. 0. 0. 0.] : Y'know what?\n",
            "[1. 0. 0. 0. 0. 0. 0. 0.] : It didnt.\n",
            "[0. 1. 0. 0. 0. 0. 0. 0.] : Okay, so what you used to have with Rachel, is what Ive got with Alice.\n",
            "[0. 0. 0. 0. 0. 1. 0. 0.] : Now, wh-what, what is that like?\n",
            "[0. 1. 0. 0. 0. 0. 0. 0.] : Its so cool man, its so, its just cause being with her is so much better than like not being with her.\n",
            "[1. 0. 0. 0. 0. 0. 0. 0.] : Yeah, yeah.\n",
            "[0. 0. 0. 0. 0. 0. 0. 1.] : Why cant I find that?\n",
            "[0. 0. 0. 0. 1. 0. 0. 0.] : Dont ask me, I had it and I blew it!\n",
            "MAX_SEQUENCE_LEN 91\n"
          ],
          "name": "stdout"
        }
      ]
    },
    {
      "cell_type": "code",
      "metadata": {
        "id": "uS0CX-SovtwL",
        "colab_type": "code",
        "colab": {}
      },
      "source": [
        "#for 캐글 csv파일 읽기\n",
        "import pandas as pd\n",
        "data = pd.read_csv(\"/content/drive/My Drive/Colab Notebooks/Friends/en_data.csv\",encoding= 'unicode_escape')\n",
        "sample = pd.read_csv(\"/content/drive/My Drive/Colab Notebooks/Friends/en_sample.csv\",encoding= 'unicode_escape')\n",
        "\n",
        "caggle = data.utterance.tolist()\n"
      ],
      "execution_count": 8,
      "outputs": []
    },
    {
      "cell_type": "markdown",
      "metadata": {
        "id": "S73NpVM2szXY",
        "colab_type": "text"
      },
      "source": [
        "##데이터 전처리"
      ]
    },
    {
      "cell_type": "code",
      "metadata": {
        "id": "Iur0qVdZszDm",
        "colab_type": "code",
        "colab": {
          "base_uri": "https://localhost:8080/",
          "height": 370
        },
        "outputId": "6698d704-d2c3-415b-8bb8-4f7dc28bacc3"
      },
      "source": [
        "tokenizer = Tokenizer(num_words=None,filters='!\"#$%&()*+,-./:;<=>?@[\\\\]^_`{|}~\\t\\n' , lower=True, char_level=False) #토크나이저 생성\n",
        "tokenizer.fit_on_texts(TRAIN_SENTENCES) #토큰나이즈 진행\n",
        "TRAIN_SEQUENCES = tokenizer.texts_to_sequences(TRAIN_SENTENCES)#id로 변경\n",
        "TEST_SEQUENCES = tokenizer.texts_to_sequences(TEST_SENTENCES)#id로 변경\n",
        "caggle_sequences = tokenizer.texts_to_sequences(caggle)\n",
        "VOCAB_SIZE = len(tokenizer.word_index) + 1\n",
        "\n",
        "print(TRAIN_SENTENCES[0])\n",
        "print(TRAIN_SEQUENCES[0])\n",
        "print(caggle[0])\n",
        "print(caggle_sequences[0])\n",
        "\n",
        "x_caggle = pad_sequences(caggle_sequences, padding='post', maxlen=MAX_SEQUENCE_LEN)\n",
        "x_train = pad_sequences(TRAIN_SEQUENCES, padding='post', maxlen=MAX_SEQUENCE_LEN) #패딩진행 post or pre?\n",
        "x_test = pad_sequences(TEST_SEQUENCES, padding='post', maxlen=MAX_SEQUENCE_LEN) #패딩진행\n",
        "print(\"PAD_SEQUENCES COMPLETES\")\n",
        "print(x_train[0])\n",
        "print(MAX_SEQUENCE_LEN)\n",
        "print(x_caggle[0])\n",
        "\n",
        "\"\"\"\n",
        "x_train = keras.preprocessing.sequence.pad_sequences(x_train, maxlen=maxlen)#패딩\n",
        "x_val = keras.preprocessing.sequence.pad_sequences(x_val, maxlen=maxlen)#패딩\n",
        "\"\"\""
      ],
      "execution_count": 10,
      "outputs": [
        {
          "output_type": "stream",
          "text": [
            "also I was the point person on my companys transition from the KL-5 to GR-6 system.\n",
            "[409, 1, 35, 3, 760, 440, 29, 20, 2880, 2881, 127, 3, 2882, 1153, 4, 2883, 900, 901]\n",
            "Alright, whadyou do with him?\n",
            "[397, 26, 36, 73]\n",
            "PAD_SEQUENCES COMPLETES\n",
            "[ 409    1   35    3  760  440   29   20 2880 2881  127    3 2882 1153\n",
            "    4 2883  900  901    0    0    0    0    0    0    0    0    0    0\n",
            "    0    0    0    0    0    0    0    0    0    0    0    0    0    0\n",
            "    0    0    0    0    0    0    0    0    0    0    0    0    0    0\n",
            "    0    0    0    0    0    0    0    0    0    0    0    0    0    0\n",
            "    0    0    0    0    0    0    0    0    0    0    0    0    0    0\n",
            "    0    0    0    0    0    0    0]\n",
            "91\n",
            "[397  26  36  73   0   0   0   0   0   0   0   0   0   0   0   0   0   0\n",
            "   0   0   0   0   0   0   0   0   0   0   0   0   0   0   0   0   0   0\n",
            "   0   0   0   0   0   0   0   0   0   0   0   0   0   0   0   0   0   0\n",
            "   0   0   0   0   0   0   0   0   0   0   0   0   0   0   0   0   0   0\n",
            "   0   0   0   0   0   0   0   0   0   0   0   0   0   0   0   0   0   0\n",
            "   0]\n"
          ],
          "name": "stdout"
        },
        {
          "output_type": "execute_result",
          "data": {
            "application/vnd.google.colaboratory.intrinsic": {
              "type": "string"
            },
            "text/plain": [
              "'\\nx_train = keras.preprocessing.sequence.pad_sequences(x_train, maxlen=maxlen)#패딩\\nx_val = keras.preprocessing.sequence.pad_sequences(x_val, maxlen=maxlen)#패딩\\n'"
            ]
          },
          "metadata": {
            "tags": []
          },
          "execution_count": 10
        }
      ]
    },
    {
      "cell_type": "markdown",
      "metadata": {
        "id": "SrTVvv0Tjjn0",
        "colab_type": "text"
      },
      "source": [
        "##데이터 구성 확인"
      ]
    },
    {
      "cell_type": "code",
      "metadata": {
        "id": "uHD5jUlUjm2I",
        "colab_type": "code",
        "colab": {
          "base_uri": "https://localhost:8080/",
          "height": 52
        },
        "outputId": "fd509bce-7e7d-420e-cf0c-7c2b326fa582"
      },
      "source": [
        "emotion=[0,0,0,0,0,0,0,0]\n",
        "\n",
        "for i in range(len(TRAIN_LABELS)):\n",
        "  for j in range(8):\n",
        "    if(TRAIN_LABELS[i][j]==1):\n",
        "      emotion[j]+=1\n",
        "print(emotion)\n",
        "\n",
        "emotion=[0,0,0,0,0,0,0,0]\n",
        "\n",
        "for i in range(len(TEST_LABELS)):\n",
        "  for j in range(8):\n",
        "    if(TEST_LABELS[i][j]==1):\n",
        "      emotion[j]+=1\n",
        "print(emotion)\n",
        "#Nuetral에 해당되는 데이터가 다른 감정 데이터에 비해 압도적으로 많음을 확인할 수 있다.\n"
      ],
      "execution_count": 23,
      "outputs": [
        {
          "output_type": "stream",
          "text": [
            "[4752, 1283, 351, 185, 513, 1220, 240, 2017]\n",
            "[1287, 304, 85, 32, 161, 286, 68, 541]\n"
          ],
          "name": "stdout"
        }
      ]
    },
    {
      "cell_type": "markdown",
      "metadata": {
        "colab_type": "text",
        "id": "bSmZHtzz_DT9"
      },
      "source": [
        "## 모델 구축\n"
      ]
    },
    {
      "cell_type": "code",
      "metadata": {
        "colab_type": "code",
        "id": "PnJPcX-5_DUB",
        "colab": {
          "base_uri": "https://localhost:8080/",
          "height": 34
        },
        "outputId": "984804fa-3404-44a3-ba9e-484d8ac77a99"
      },
      "source": [
        "embed_dim = 32  # Embedding size for each token, 논문에서는 512차원\n",
        "num_heads = 2  # Number of attention heads, 논문에서는 8개\n",
        "ff_dim = 32  # Hidden layer size in feed forward network inside transformer, 논문에서는 2048차원\n",
        "maxlen = MAX_SEQUENCE_LEN\n",
        "\n"
      ],
      "execution_count": 11,
      "outputs": [
        {
          "output_type": "stream",
          "text": [
            "hello\n"
          ],
          "name": "stdout"
        }
      ]
    },
    {
      "cell_type": "markdown",
      "metadata": {
        "colab_type": "text",
        "id": "R7knaKVr_DUU"
      },
      "source": [
        "## 학습\n"
      ]
    },
    {
      "cell_type": "code",
      "metadata": {
        "colab_type": "code",
        "id": "kJM7h8Ax_DUX",
        "colab": {
          "base_uri": "https://localhost:8080/",
          "height": 721
        },
        "outputId": "ce966d1e-18f1-431d-b802-6ed0cef11faf"
      },
      "source": [
        "inputs = layers.Input(shape=(maxlen,)) #처음 입력\n",
        "embedding_layer = TokenAndPositionEmbedding(maxlen, VOCAB_SIZE, embed_dim) #객체 생성\n",
        "x = embedding_layer(inputs)  #포지셔널 임베딩\n",
        "transformer_block = TransformerBlock(embed_dim, num_heads, ff_dim) #객체 생성\n",
        "x = transformer_block(x) #트랜스포머 \n",
        "x = layers.GlobalAveragePooling1D()(x) #Average Pooling\n",
        "x = layers.Dropout(0.5)(x) #드롯아웃\n",
        "x = layers.Dense(20, activation=\"relu\")(x) #FFNN\n",
        "x = layers.Dropout(0.5)(x) #드롭아웃\n",
        "outputs = layers.Dense(8, activation=\"softmax\")(x) #Softmax\n",
        "\n",
        "model = keras.Model(inputs=inputs, outputs=outputs) #모델 생성\n",
        "\n",
        "model.compile(\"adam\", \"CategoricalCrossentropy\", metrics=[\"accuracy\"])\n",
        "\n",
        "\"\"\"\n",
        "callback_list = [\n",
        "  keras.callbacks.EarlyStopping(\n",
        "    monitor='val_accuracy', # 모델의 검증 정확도 모니터링\n",
        "    patience=2, # 3 에포크보다 더 길게 향상되지 않으면 중단\n",
        "  ),\n",
        "  keras.callbacks.ModelCheckpoint(\n",
        "    filepath='my_model.h5', # 저장\n",
        "    monitor='val_accuracy',\n",
        "    save_best_only=True, # 가장 좋은 모델\n",
        "  )\n",
        "]\n",
        "\"\"\"\n",
        "\n",
        "history = model.fit(\n",
        "    x_train, TRAIN_LABELS, batch_size=64, epochs=7, validation_data=(x_test, TEST_LABELS)\n",
        ")\n",
        "\n",
        "#모델 정보 출력\n",
        "model.summary() \n",
        "\n",
        "#성능 측정\n",
        "test_loss,test_acc=model.evaluate(x_test,TEST_LABELS)\n",
        "print(\"Test_acc: \",test_acc)"
      ],
      "execution_count": 22,
      "outputs": [
        {
          "output_type": "stream",
          "text": [
            "Epoch 1/7\n",
            "166/166 [==============================] - 4s 21ms/step - loss: 1.7977 - accuracy: 0.3767 - val_loss: 1.6111 - val_accuracy: 0.4656\n",
            "Epoch 2/7\n",
            "166/166 [==============================] - 3s 19ms/step - loss: 1.6874 - accuracy: 0.4436 - val_loss: 1.5704 - val_accuracy: 0.4656\n",
            "Epoch 3/7\n",
            "166/166 [==============================] - 3s 20ms/step - loss: 1.6506 - accuracy: 0.4488 - val_loss: 1.5619 - val_accuracy: 0.4656\n",
            "Epoch 4/7\n",
            "166/166 [==============================] - 3s 19ms/step - loss: 1.6180 - accuracy: 0.4512 - val_loss: 1.5415 - val_accuracy: 0.4671\n",
            "Epoch 5/7\n",
            "166/166 [==============================] - 3s 19ms/step - loss: 1.5750 - accuracy: 0.4632 - val_loss: 1.4919 - val_accuracy: 0.4895\n",
            "Epoch 6/7\n",
            "166/166 [==============================] - 3s 19ms/step - loss: 1.5001 - accuracy: 0.4774 - val_loss: 1.4714 - val_accuracy: 0.5000\n",
            "Epoch 7/7\n",
            "166/166 [==============================] - 3s 19ms/step - loss: 1.4218 - accuracy: 0.4930 - val_loss: 1.4769 - val_accuracy: 0.4957\n",
            "Model: \"model_9\"\n",
            "_________________________________________________________________\n",
            "Layer (type)                 Output Shape              Param #   \n",
            "=================================================================\n",
            "input_10 (InputLayer)        [(None, 91)]              0         \n",
            "_________________________________________________________________\n",
            "token_and_position_embedding (None, 91, 32)            195840    \n",
            "_________________________________________________________________\n",
            "transformer_block_9 (Transfo (None, 91, 32)            6464      \n",
            "_________________________________________________________________\n",
            "global_average_pooling1d_9 ( (None, 32)                0         \n",
            "_________________________________________________________________\n",
            "dropout_38 (Dropout)         (None, 32)                0         \n",
            "_________________________________________________________________\n",
            "dense_78 (Dense)             (None, 20)                660       \n",
            "_________________________________________________________________\n",
            "dropout_39 (Dropout)         (None, 20)                0         \n",
            "_________________________________________________________________\n",
            "dense_79 (Dense)             (None, 8)                 168       \n",
            "=================================================================\n",
            "Total params: 203,132\n",
            "Trainable params: 203,132\n",
            "Non-trainable params: 0\n",
            "_________________________________________________________________\n",
            "87/87 [==============================] - 1s 7ms/step - loss: 1.4769 - accuracy: 0.4957\n",
            "Test_acc:  0.4956584572792053\n"
          ],
          "name": "stdout"
        }
      ]
    },
    {
      "cell_type": "markdown",
      "metadata": {
        "id": "XzYwUVnSl5xo",
        "colab_type": "text"
      },
      "source": [
        "##예측 (for 캐글 Leaderboard)"
      ]
    },
    {
      "cell_type": "code",
      "metadata": {
        "id": "D95jrOsEl8FQ",
        "colab_type": "code",
        "colab": {
          "base_uri": "https://localhost:8080/",
          "height": 90
        },
        "outputId": "c1b499e7-8ab8-4fcc-8e27-dd905fa3857c"
      },
      "source": [
        "\n",
        "predictions = model.predict(\n",
        "    x_caggle, batch_size=None, verbose=0, steps=None, callbacks=None, max_queue_size=10,\n",
        "    workers=1, use_multiprocessing=False)\n",
        "y_caggle=[]\n",
        "for i in range(len(predictions)):\n",
        "  y_caggle.append(np.argmax(predictions[i]))\n",
        "\n",
        "sentiment = ['neutral', 'joy', 'sadness', 'fear', 'anger', 'surprise', 'disgust', 'non-neutral']\n",
        "for i in range(len(y_caggle)):\n",
        "  y_caggle[i] = sentiment[y_caggle[i]]\n",
        "print(y_caggle)\n",
        "dataframe = pd.DataFrame(y_caggle)\n",
        "dataframe.to_csv(\"/content/drive/My Drive/Colab Notebooks/Friends/en_sample.csv\",index='Expected', header=1)\n"
      ],
      "execution_count": 13,
      "outputs": [
        {
          "output_type": "stream",
          "text": [
            "['neutral', 'non-neutral', 'surprise', 'neutral', 'non-neutral', 'neutral', 'neutral', 'neutral', 'neutral', 'non-neutral', 'non-neutral', 'neutral', 'neutral', 'neutral', 'neutral', 'surprise', 'sadness', 'surprise', 'neutral', 'neutral', 'neutral', 'neutral', 'neutral', 'neutral', 'joy', 'neutral', 'neutral', 'neutral', 'non-neutral', 'neutral', 'neutral', 'neutral', 'neutral', 'non-neutral', 'neutral', 'non-neutral', 'neutral', 'neutral', 'surprise', 'neutral', 'neutral', 'joy', 'neutral', 'neutral', 'neutral', 'surprise', 'neutral', 'non-neutral', 'neutral', 'neutral', 'neutral', 'neutral', 'neutral', 'neutral', 'neutral', 'neutral', 'surprise', 'neutral', 'non-neutral', 'neutral', 'joy', 'neutral', 'non-neutral', 'neutral', 'neutral', 'non-neutral', 'neutral', 'surprise', 'neutral', 'non-neutral', 'neutral', 'neutral', 'neutral', 'neutral', 'neutral', 'non-neutral', 'neutral', 'neutral', 'neutral', 'non-neutral', 'neutral', 'neutral', 'joy', 'neutral', 'neutral', 'non-neutral', 'joy', 'joy', 'neutral', 'neutral', 'neutral', 'neutral', 'neutral', 'neutral', 'neutral', 'non-neutral', 'neutral', 'joy', 'neutral', 'surprise', 'joy', 'neutral', 'non-neutral', 'surprise', 'non-neutral', 'neutral', 'neutral', 'non-neutral', 'neutral', 'neutral', 'neutral', 'neutral', 'neutral', 'neutral', 'non-neutral', 'neutral', 'surprise', 'neutral', 'joy', 'joy', 'neutral', 'neutral', 'non-neutral', 'joy', 'neutral', 'neutral', 'joy', 'joy', 'neutral', 'neutral', 'neutral', 'neutral', 'non-neutral', 'joy', 'non-neutral', 'non-neutral', 'neutral', 'neutral', 'neutral', 'non-neutral', 'non-neutral', 'neutral', 'joy', 'non-neutral', 'joy', 'joy', 'non-neutral', 'joy', 'surprise', 'surprise', 'non-neutral', 'neutral', 'neutral', 'neutral', 'non-neutral', 'neutral', 'neutral', 'neutral', 'neutral', 'neutral', 'neutral', 'surprise', 'neutral', 'neutral', 'neutral', 'neutral', 'non-neutral', 'neutral', 'neutral', 'non-neutral', 'neutral', 'neutral', 'neutral', 'neutral', 'neutral', 'neutral', 'non-neutral', 'non-neutral', 'surprise', 'non-neutral', 'neutral', 'neutral', 'neutral', 'neutral', 'neutral', 'surprise', 'neutral', 'neutral', 'non-neutral', 'neutral', 'non-neutral', 'joy', 'neutral', 'non-neutral', 'neutral', 'non-neutral', 'neutral', 'neutral', 'neutral', 'neutral', 'neutral', 'neutral', 'neutral', 'neutral', 'neutral', 'joy', 'neutral', 'joy', 'neutral', 'neutral', 'neutral', 'neutral', 'non-neutral', 'neutral', 'neutral', 'neutral', 'neutral', 'non-neutral', 'neutral', 'surprise', 'non-neutral', 'neutral', 'neutral', 'neutral', 'neutral', 'non-neutral', 'neutral', 'neutral', 'neutral', 'neutral', 'non-neutral', 'neutral', 'neutral', 'joy', 'neutral', 'surprise', 'neutral', 'non-neutral', 'non-neutral', 'joy', 'neutral', 'neutral', 'non-neutral', 'neutral', 'non-neutral', 'neutral', 'neutral', 'neutral', 'sadness', 'neutral', 'neutral', 'neutral', 'neutral', 'neutral', 'neutral', 'non-neutral', 'neutral', 'joy', 'joy', 'neutral', 'neutral', 'neutral', 'non-neutral', 'neutral', 'joy', 'neutral', 'neutral', 'neutral', 'neutral', 'neutral', 'neutral', 'neutral', 'non-neutral', 'non-neutral', 'non-neutral', 'neutral', 'non-neutral', 'neutral', 'neutral', 'surprise', 'surprise', 'neutral', 'neutral', 'neutral', 'neutral', 'neutral', 'non-neutral', 'neutral', 'joy', 'neutral', 'neutral', 'neutral', 'neutral', 'neutral', 'non-neutral', 'non-neutral', 'neutral', 'non-neutral', 'neutral', 'non-neutral', 'neutral', 'neutral', 'neutral', 'neutral', 'neutral', 'sadness', 'neutral', 'non-neutral', 'joy', 'non-neutral', 'neutral', 'non-neutral', 'neutral', 'neutral', 'non-neutral', 'neutral', 'non-neutral', 'neutral', 'neutral', 'neutral', 'neutral', 'neutral', 'neutral', 'neutral', 'non-neutral', 'non-neutral', 'neutral', 'neutral', 'joy', 'neutral', 'joy', 'non-neutral', 'neutral', 'joy', 'non-neutral', 'non-neutral', 'neutral', 'neutral', 'neutral', 'neutral', 'neutral', 'neutral', 'non-neutral', 'surprise', 'joy', 'joy', 'joy', 'non-neutral', 'neutral', 'neutral', 'neutral', 'neutral', 'non-neutral', 'neutral', 'neutral', 'non-neutral', 'non-neutral', 'neutral', 'neutral', 'neutral', 'neutral', 'surprise', 'joy', 'neutral', 'surprise', 'neutral', 'neutral', 'neutral', 'neutral', 'non-neutral', 'non-neutral', 'non-neutral', 'joy', 'neutral', 'neutral', 'neutral', 'joy', 'non-neutral', 'neutral', 'neutral', 'neutral', 'neutral', 'neutral', 'joy', 'joy', 'neutral', 'surprise', 'neutral', 'neutral', 'neutral', 'neutral', 'neutral', 'neutral', 'non-neutral', 'neutral', 'neutral', 'neutral', 'neutral', 'neutral', 'neutral', 'non-neutral', 'joy', 'non-neutral', 'non-neutral', 'joy', 'non-neutral', 'non-neutral', 'non-neutral', 'neutral', 'non-neutral', 'neutral', 'neutral', 'neutral', 'neutral', 'neutral', 'non-neutral', 'neutral', 'sadness', 'neutral', 'neutral', 'neutral', 'neutral', 'neutral', 'surprise', 'non-neutral', 'neutral', 'neutral', 'non-neutral', 'neutral', 'neutral', 'neutral', 'neutral', 'neutral', 'neutral', 'neutral', 'neutral', 'neutral', 'neutral', 'joy', 'neutral', 'neutral', 'neutral', 'joy', 'neutral', 'neutral', 'neutral', 'non-neutral', 'neutral', 'non-neutral', 'joy', 'neutral', 'surprise', 'non-neutral', 'neutral', 'neutral', 'neutral', 'non-neutral', 'non-neutral', 'neutral', 'neutral', 'neutral', 'non-neutral', 'neutral', 'neutral', 'joy', 'neutral', 'neutral', 'neutral', 'neutral', 'neutral', 'neutral', 'neutral', 'surprise', 'non-neutral', 'neutral', 'non-neutral', 'non-neutral', 'joy', 'non-neutral', 'neutral', 'sadness', 'non-neutral', 'non-neutral', 'non-neutral', 'neutral', 'neutral', 'neutral', 'neutral', 'joy', 'non-neutral', 'neutral', 'neutral', 'surprise', 'neutral', 'surprise', 'surprise', 'joy', 'neutral', 'neutral', 'non-neutral', 'neutral', 'neutral', 'neutral', 'non-neutral', 'neutral', 'neutral', 'neutral', 'neutral', 'neutral', 'neutral', 'neutral', 'neutral', 'neutral', 'joy', 'non-neutral', 'surprise', 'neutral', 'neutral', 'surprise', 'neutral', 'non-neutral', 'neutral', 'neutral', 'neutral', 'neutral', 'joy', 'neutral', 'neutral', 'neutral', 'neutral', 'neutral', 'non-neutral', 'joy', 'neutral', 'neutral', 'joy', 'neutral', 'neutral', 'neutral', 'non-neutral', 'non-neutral', 'neutral', 'non-neutral', 'non-neutral', 'neutral', 'neutral', 'non-neutral', 'neutral', 'neutral', 'joy', 'neutral', 'neutral', 'neutral', 'neutral', 'neutral', 'sadness', 'surprise', 'neutral', 'neutral', 'neutral', 'non-neutral', 'neutral', 'surprise', 'neutral', 'non-neutral', 'neutral', 'joy', 'surprise', 'neutral', 'joy', 'neutral', 'neutral', 'surprise', 'neutral', 'joy', 'neutral', 'surprise', 'neutral', 'neutral', 'surprise', 'neutral', 'neutral', 'neutral', 'neutral', 'neutral', 'non-neutral', 'non-neutral', 'neutral', 'neutral', 'neutral', 'surprise', 'non-neutral', 'neutral', 'non-neutral', 'non-neutral', 'non-neutral', 'neutral', 'neutral', 'non-neutral', 'non-neutral', 'neutral', 'neutral', 'neutral', 'neutral', 'neutral', 'surprise', 'non-neutral', 'neutral', 'neutral', 'neutral', 'neutral', 'non-neutral', 'non-neutral', 'neutral', 'surprise', 'neutral', 'neutral', 'neutral', 'non-neutral', 'non-neutral', 'neutral', 'non-neutral', 'neutral', 'neutral', 'non-neutral', 'neutral', 'neutral', 'neutral', 'neutral', 'neutral', 'non-neutral', 'neutral', 'neutral', 'neutral', 'non-neutral', 'non-neutral', 'neutral', 'neutral', 'neutral', 'neutral', 'neutral', 'neutral', 'non-neutral', 'neutral', 'non-neutral', 'neutral', 'neutral', 'neutral', 'non-neutral', 'sadness', 'neutral', 'joy', 'neutral', 'neutral', 'joy', 'neutral', 'neutral', 'neutral', 'neutral', 'neutral', 'neutral', 'neutral', 'neutral', 'neutral', 'neutral', 'sadness', 'neutral', 'neutral', 'non-neutral', 'neutral', 'surprise', 'joy', 'neutral', 'neutral', 'neutral', 'neutral', 'neutral', 'neutral', 'neutral', 'neutral', 'non-neutral', 'neutral', 'neutral', 'surprise', 'neutral', 'surprise', 'neutral', 'neutral', 'neutral', 'non-neutral', 'neutral', 'surprise', 'non-neutral', 'non-neutral', 'non-neutral', 'neutral', 'neutral', 'non-neutral', 'neutral', 'neutral', 'non-neutral', 'non-neutral', 'joy', 'neutral', 'non-neutral', 'neutral', 'neutral', 'neutral', 'joy', 'non-neutral', 'neutral', 'non-neutral', 'neutral', 'neutral', 'neutral', 'neutral', 'neutral', 'neutral', 'non-neutral', 'neutral', 'neutral', 'neutral', 'neutral', 'non-neutral', 'sadness', 'surprise', 'surprise', 'joy', 'neutral', 'non-neutral', 'neutral', 'neutral', 'neutral', 'neutral', 'neutral', 'neutral', 'neutral', 'neutral', 'neutral', 'non-neutral', 'neutral', 'neutral', 'neutral', 'neutral', 'neutral', 'sadness', 'non-neutral', 'non-neutral', 'surprise', 'non-neutral', 'surprise', 'non-neutral', 'neutral', 'neutral', 'non-neutral', 'neutral', 'neutral', 'neutral', 'neutral', 'non-neutral', 'neutral', 'neutral', 'neutral', 'non-neutral', 'neutral', 'neutral', 'neutral', 'neutral', 'neutral', 'neutral', 'neutral', 'neutral', 'non-neutral', 'surprise', 'neutral', 'non-neutral', 'neutral', 'non-neutral', 'neutral', 'joy', 'non-neutral', 'joy', 'neutral', 'non-neutral', 'non-neutral', 'neutral', 'non-neutral', 'surprise', 'neutral', 'neutral', 'neutral', 'non-neutral', 'neutral', 'neutral', 'neutral', 'neutral', 'neutral', 'joy', 'joy', 'neutral', 'surprise', 'neutral', 'sadness', 'neutral', 'neutral', 'non-neutral', 'neutral', 'non-neutral', 'neutral', 'neutral', 'neutral', 'neutral', 'neutral', 'non-neutral', 'neutral', 'non-neutral', 'non-neutral', 'neutral', 'neutral', 'non-neutral', 'neutral', 'neutral', 'non-neutral', 'neutral', 'joy', 'neutral', 'surprise', 'joy', 'joy', 'neutral', 'joy', 'neutral', 'neutral', 'neutral', 'neutral', 'neutral', 'non-neutral', 'neutral', 'non-neutral', 'neutral', 'non-neutral', 'neutral', 'non-neutral', 'neutral', 'non-neutral', 'neutral', 'neutral', 'non-neutral', 'neutral', 'neutral', 'neutral', 'neutral', 'neutral', 'neutral', 'neutral', 'non-neutral', 'neutral', 'neutral', 'neutral', 'neutral', 'neutral', 'joy', 'neutral', 'neutral', 'non-neutral', 'neutral', 'neutral', 'neutral', 'neutral', 'neutral', 'neutral', 'surprise', 'neutral', 'non-neutral', 'non-neutral', 'surprise', 'non-neutral', 'surprise', 'surprise', 'neutral', 'non-neutral', 'surprise', 'neutral', 'joy', 'neutral', 'non-neutral', 'neutral', 'neutral', 'neutral', 'neutral', 'non-neutral', 'neutral', 'non-neutral', 'neutral', 'neutral', 'surprise', 'neutral', 'neutral', 'neutral', 'neutral', 'neutral', 'neutral', 'neutral', 'neutral', 'neutral', 'surprise', 'neutral', 'neutral', 'non-neutral', 'neutral', 'joy', 'non-neutral', 'non-neutral', 'neutral', 'joy', 'non-neutral', 'joy', 'surprise', 'surprise', 'neutral', 'neutral', 'surprise', 'neutral', 'non-neutral', 'neutral', 'neutral', 'non-neutral', 'non-neutral', 'neutral', 'neutral', 'neutral', 'non-neutral', 'neutral', 'neutral', 'joy', 'surprise', 'neutral', 'neutral', 'neutral', 'non-neutral', 'neutral', 'sadness', 'neutral', 'neutral', 'surprise', 'neutral', 'neutral', 'neutral', 'neutral', 'neutral', 'neutral', 'neutral', 'surprise', 'surprise', 'neutral', 'neutral', 'joy', 'neutral', 'sadness', 'non-neutral', 'neutral', 'neutral', 'surprise', 'neutral', 'neutral', 'neutral', 'non-neutral', 'surprise', 'neutral', 'neutral', 'neutral', 'neutral', 'sadness', 'neutral', 'neutral', 'neutral', 'joy', 'neutral', 'neutral', 'joy', 'neutral', 'surprise', 'non-neutral', 'neutral', 'neutral', 'surprise', 'neutral', 'surprise', 'neutral', 'non-neutral', 'joy', 'neutral', 'sadness', 'neutral', 'non-neutral', 'neutral', 'neutral', 'surprise', 'neutral', 'neutral', 'neutral', 'non-neutral', 'surprise', 'neutral', 'neutral', 'neutral', 'non-neutral', 'neutral', 'non-neutral', 'neutral', 'neutral', 'neutral', 'surprise', 'surprise', 'neutral', 'neutral', 'neutral', 'surprise', 'neutral', 'sadness', 'neutral', 'neutral', 'neutral', 'sadness', 'non-neutral', 'neutral', 'neutral', 'neutral', 'non-neutral', 'neutral', 'neutral', 'neutral', 'non-neutral', 'non-neutral', 'neutral', 'neutral', 'neutral', 'neutral', 'joy', 'non-neutral', 'neutral', 'neutral', 'neutral', 'non-neutral', 'neutral', 'neutral', 'surprise', 'non-neutral', 'neutral', 'neutral', 'neutral', 'non-neutral', 'neutral', 'neutral', 'neutral', 'neutral', 'neutral', 'neutral', 'neutral', 'neutral', 'neutral', 'neutral', 'neutral', 'neutral', 'joy', 'neutral', 'joy', 'neutral', 'neutral', 'neutral', 'surprise', 'surprise', 'neutral', 'neutral', 'neutral', 'neutral', 'non-neutral', 'neutral', 'neutral', 'neutral', 'non-neutral', 'neutral', 'neutral', 'non-neutral', 'neutral', 'neutral', 'neutral', 'neutral', 'neutral', 'neutral', 'joy', 'neutral', 'non-neutral', 'neutral', 'neutral', 'neutral', 'neutral', 'neutral', 'non-neutral', 'neutral', 'sadness', 'neutral', 'neutral', 'neutral', 'neutral', 'neutral', 'neutral', 'neutral', 'neutral', 'neutral', 'joy', 'sadness', 'surprise', 'non-neutral', 'surprise', 'neutral', 'neutral', 'non-neutral', 'joy', 'neutral', 'neutral', 'neutral', 'neutral', 'joy', 'neutral', 'neutral', 'neutral', 'non-neutral', 'neutral', 'neutral', 'neutral', 'neutral', 'neutral', 'neutral', 'neutral', 'neutral', 'neutral', 'joy', 'non-neutral', 'joy', 'neutral', 'neutral', 'neutral', 'neutral', 'neutral', 'neutral', 'neutral', 'non-neutral', 'neutral', 'surprise', 'surprise', 'neutral', 'surprise', 'neutral', 'neutral', 'neutral', 'non-neutral', 'non-neutral', 'non-neutral', 'neutral', 'neutral', 'neutral', 'non-neutral', 'non-neutral', 'joy', 'non-neutral', 'surprise', 'neutral', 'neutral', 'neutral', 'neutral', 'neutral', 'neutral', 'neutral', 'neutral', 'joy', 'neutral', 'neutral', 'neutral', 'neutral', 'non-neutral', 'surprise', 'neutral', 'neutral', 'neutral', 'neutral', 'neutral', 'neutral', 'neutral', 'surprise', 'neutral', 'neutral', 'neutral', 'surprise', 'joy', 'neutral', 'neutral', 'neutral', 'neutral', 'neutral', 'non-neutral', 'neutral', 'joy', 'neutral', 'neutral', 'joy', 'neutral', 'neutral', 'neutral', 'joy', 'neutral', 'neutral', 'neutral', 'non-neutral', 'neutral', 'neutral', 'neutral', 'neutral', 'neutral', 'neutral', 'neutral', 'neutral', 'neutral', 'non-neutral', 'surprise', 'neutral', 'neutral', 'non-neutral', 'joy', 'neutral', 'neutral', 'neutral', 'neutral', 'non-neutral', 'neutral', 'sadness', 'neutral', 'neutral', 'neutral', 'neutral', 'neutral', 'neutral', 'neutral', 'non-neutral', 'neutral', 'neutral', 'neutral', 'neutral', 'neutral', 'neutral', 'neutral', 'neutral', 'non-neutral', 'non-neutral', 'neutral', 'neutral', 'surprise', 'neutral', 'joy', 'neutral', 'neutral', 'neutral', 'neutral', 'joy', 'neutral', 'neutral', 'neutral', 'joy', 'neutral', 'surprise', 'neutral', 'neutral', 'neutral', 'neutral', 'neutral', 'neutral', 'neutral', 'joy', 'neutral', 'surprise', 'neutral', 'neutral', 'neutral', 'surprise', 'neutral', 'non-neutral', 'non-neutral', 'neutral', 'neutral', 'joy', 'neutral', 'non-neutral', 'neutral', 'neutral', 'neutral', 'neutral', 'neutral', 'non-neutral', 'neutral', 'neutral', 'neutral', 'joy', 'neutral', 'neutral', 'neutral', 'neutral', 'neutral', 'neutral', 'neutral', 'non-neutral', 'neutral', 'neutral', 'neutral', 'joy', 'neutral', 'neutral', 'neutral', 'neutral', 'neutral', 'neutral', 'neutral', 'neutral', 'neutral', 'neutral', 'surprise', 'non-neutral', 'non-neutral', 'neutral', 'neutral', 'neutral', 'non-neutral', 'neutral', 'neutral', 'neutral', 'non-neutral', 'non-neutral', 'neutral', 'non-neutral', 'neutral', 'neutral', 'neutral', 'neutral', 'neutral', 'surprise', 'sadness', 'neutral', 'surprise', 'non-neutral', 'neutral', 'neutral', 'neutral', 'neutral', 'non-neutral', 'neutral', 'non-neutral', 'neutral', 'neutral', 'neutral', 'neutral', 'neutral', 'neutral', 'surprise', 'non-neutral', 'neutral', 'non-neutral', 'neutral', 'neutral', 'neutral', 'neutral', 'non-neutral', 'neutral', 'neutral', 'neutral', 'neutral', 'neutral', 'neutral', 'surprise', 'neutral', 'neutral', 'neutral', 'neutral', 'non-neutral', 'neutral', 'neutral', 'neutral', 'neutral', 'neutral', 'non-neutral', 'non-neutral', 'neutral', 'neutral', 'surprise', 'neutral', 'non-neutral', 'neutral', 'neutral', 'neutral', 'neutral', 'neutral', 'surprise', 'neutral', 'neutral', 'surprise', 'neutral', 'surprise', 'non-neutral', 'joy', 'non-neutral', 'neutral', 'neutral', 'neutral', 'non-neutral', 'joy', 'surprise', 'surprise', 'neutral', 'neutral', 'neutral', 'neutral', 'surprise', 'neutral', 'surprise', 'neutral', 'neutral', 'neutral', 'neutral', 'surprise', 'neutral', 'neutral', 'joy', 'neutral', 'neutral', 'joy', 'joy', 'neutral', 'neutral', 'neutral', 'non-neutral', 'neutral', 'neutral', 'neutral', 'neutral', 'joy', 'neutral', 'neutral', 'neutral', 'non-neutral', 'neutral', 'neutral', 'neutral', 'non-neutral', 'neutral', 'neutral', 'neutral', 'neutral', 'neutral', 'neutral', 'surprise', 'neutral', 'neutral', 'non-neutral', 'neutral', 'neutral', 'non-neutral', 'neutral', 'neutral', 'neutral', 'neutral', 'surprise', 'neutral', 'neutral', 'neutral', 'neutral', 'joy', 'neutral', 'non-neutral', 'non-neutral', 'neutral', 'neutral', 'neutral', 'neutral', 'neutral', 'neutral', 'non-neutral', 'neutral', 'neutral', 'neutral', 'neutral', 'neutral', 'neutral', 'neutral', 'neutral', 'neutral', 'neutral', 'neutral', 'neutral', 'surprise', 'neutral', 'neutral', 'neutral', 'neutral', 'non-neutral', 'neutral', 'neutral', 'neutral', 'neutral', 'neutral', 'non-neutral', 'non-neutral', 'neutral', 'surprise', 'neutral', 'neutral', 'neutral', 'neutral', 'neutral', 'non-neutral', 'neutral', 'neutral', 'neutral', 'neutral', 'neutral', 'non-neutral', 'sadness', 'neutral', 'neutral', 'neutral', 'neutral', 'neutral', 'neutral', 'neutral', 'neutral', 'joy', 'neutral', 'non-neutral', 'non-neutral', 'neutral', 'neutral', 'neutral', 'neutral', 'neutral', 'non-neutral', 'joy', 'neutral', 'non-neutral', 'surprise', 'neutral', 'joy', 'neutral', 'neutral', 'neutral', 'non-neutral', 'non-neutral', 'neutral', 'non-neutral', 'surprise', 'non-neutral', 'neutral', 'neutral', 'neutral', 'neutral', 'joy', 'joy', 'neutral', 'neutral', 'neutral', 'neutral', 'neutral', 'joy', 'non-neutral', 'joy', 'non-neutral', 'neutral', 'neutral', 'non-neutral', 'non-neutral', 'neutral', 'neutral', 'neutral', 'neutral', 'joy', 'neutral', 'neutral', 'surprise', 'joy', 'non-neutral', 'neutral', 'neutral', 'neutral', 'non-neutral', 'neutral', 'neutral', 'neutral', 'non-neutral', 'non-neutral', 'neutral', 'neutral', 'neutral', 'non-neutral', 'neutral', 'neutral', 'non-neutral', 'neutral', 'neutral', 'neutral', 'neutral', 'surprise', 'surprise', 'neutral', 'neutral', 'neutral', 'surprise', 'neutral', 'non-neutral', 'neutral', 'neutral', 'neutral', 'sadness', 'non-neutral', 'neutral', 'neutral', 'neutral', 'non-neutral', 'neutral', 'neutral', 'neutral', 'non-neutral', 'neutral', 'neutral', 'neutral', 'neutral', 'neutral', 'surprise', 'non-neutral', 'neutral', 'neutral', 'neutral', 'neutral', 'non-neutral', 'neutral', 'neutral', 'neutral', 'neutral', 'neutral', 'neutral', 'joy', 'non-neutral', 'neutral', 'neutral', 'neutral', 'neutral', 'non-neutral', 'sadness', 'sadness', 'neutral', 'neutral', 'neutral', 'joy', 'neutral', 'neutral', 'neutral', 'neutral', 'joy', 'neutral', 'non-neutral', 'non-neutral', 'neutral', 'surprise', 'non-neutral', 'neutral', 'neutral', 'joy', 'neutral', 'surprise', 'neutral', 'neutral', 'non-neutral', 'neutral', 'joy', 'surprise', 'neutral', 'non-neutral', 'non-neutral', 'neutral', 'non-neutral', 'neutral', 'non-neutral', 'non-neutral', 'non-neutral', 'neutral', 'non-neutral', 'neutral', 'neutral', 'neutral', 'neutral', 'neutral', 'neutral', 'non-neutral', 'neutral', 'neutral', 'joy', 'neutral', 'neutral', 'joy', 'non-neutral', 'neutral', 'non-neutral', 'neutral', 'neutral', 'non-neutral', 'neutral', 'neutral', 'non-neutral', 'non-neutral', 'neutral', 'neutral', 'non-neutral', 'neutral', 'neutral', 'non-neutral', 'neutral', 'joy', 'neutral', 'neutral', 'neutral', 'surprise', 'neutral', 'neutral', 'neutral', 'neutral', 'non-neutral', 'neutral', 'neutral', 'non-neutral', 'neutral', 'neutral', 'non-neutral', 'neutral', 'non-neutral', 'neutral', 'neutral', 'neutral', 'non-neutral', 'neutral', 'neutral', 'neutral', 'neutral', 'neutral', 'neutral', 'neutral', 'non-neutral', 'neutral', 'neutral', 'joy', 'neutral', 'neutral', 'joy', 'joy', 'surprise', 'surprise', 'neutral', 'neutral', 'non-neutral', 'joy', 'non-neutral', 'neutral', 'neutral', 'joy', 'joy', 'joy', 'neutral', 'joy', 'neutral', 'neutral', 'neutral', 'neutral', 'neutral', 'non-neutral', 'neutral', 'neutral', 'neutral', 'neutral', 'neutral', 'neutral', 'joy', 'neutral', 'neutral', 'neutral', 'neutral', 'neutral', 'neutral', 'neutral', 'joy', 'joy', 'joy', 'joy', 'neutral', 'neutral', 'neutral', 'neutral', 'neutral', 'neutral', 'neutral', 'surprise', 'neutral', 'neutral', 'surprise', 'neutral', 'neutral', 'neutral', 'neutral', 'non-neutral', 'non-neutral', 'neutral', 'neutral', 'non-neutral', 'neutral', 'neutral', 'neutral', 'neutral', 'neutral', 'joy', 'neutral', 'joy', 'neutral', 'neutral', 'neutral', 'neutral', 'joy', 'neutral', 'neutral', 'neutral', 'joy', 'neutral', 'neutral', 'non-neutral', 'neutral', 'neutral', 'neutral', 'neutral', 'neutral', 'neutral', 'non-neutral', 'neutral', 'neutral', 'neutral', 'joy', 'joy', 'neutral', 'neutral', 'neutral', 'neutral', 'neutral', 'neutral', 'non-neutral', 'neutral', 'neutral', 'neutral', 'neutral', 'neutral', 'neutral', 'neutral', 'neutral', 'non-neutral', 'non-neutral', 'neutral', 'neutral', 'neutral', 'neutral', 'neutral', 'non-neutral', 'neutral', 'neutral', 'neutral', 'neutral', 'neutral', 'joy', 'non-neutral', 'non-neutral', 'surprise', 'neutral', 'neutral', 'neutral', 'neutral', 'non-neutral', 'neutral', 'neutral', 'neutral', 'non-neutral', 'neutral', 'neutral', 'neutral', 'neutral', 'neutral', 'non-neutral', 'surprise', 'neutral', 'neutral', 'neutral', 'neutral', 'neutral', 'joy', 'neutral', 'joy', 'joy', 'non-neutral', 'neutral', 'neutral', 'non-neutral', 'neutral', 'neutral', 'neutral', 'neutral', 'neutral', 'neutral', 'neutral', 'neutral', 'neutral', 'neutral', 'neutral', 'neutral', 'neutral', 'neutral', 'neutral', 'joy', 'neutral', 'joy', 'neutral', 'joy', 'neutral', 'neutral', 'neutral', 'non-neutral', 'neutral', 'neutral', 'neutral', 'neutral', 'neutral', 'joy', 'neutral', 'neutral', 'non-neutral', 'neutral', 'neutral', 'neutral', 'neutral', 'joy', 'neutral', 'non-neutral', 'neutral', 'neutral', 'neutral', 'neutral', 'neutral', 'neutral', 'neutral', 'non-neutral', 'non-neutral', 'neutral', 'neutral', 'neutral', 'neutral', 'joy', 'neutral', 'non-neutral', 'neutral', 'neutral', 'non-neutral', 'neutral', 'neutral', 'neutral', 'surprise', 'neutral', 'neutral', 'joy', 'joy', 'neutral', 'non-neutral', 'non-neutral', 'surprise', 'neutral', 'neutral', 'non-neutral', 'neutral', 'neutral', 'neutral', 'neutral', 'neutral', 'neutral', 'neutral', 'neutral', 'neutral', 'neutral', 'neutral', 'neutral', 'joy', 'neutral', 'non-neutral', 'neutral', 'neutral', 'neutral', 'neutral', 'neutral', 'neutral', 'neutral', 'neutral', 'joy', 'neutral', 'joy', 'neutral', 'neutral', 'neutral', 'neutral', 'neutral', 'joy', 'surprise', 'neutral', 'non-neutral', 'non-neutral', 'non-neutral', 'neutral', 'neutral', 'neutral', 'neutral', 'neutral', 'neutral', 'neutral', 'neutral', 'neutral', 'neutral', 'neutral', 'non-neutral', 'neutral', 'neutral', 'neutral', 'neutral', 'joy', 'neutral', 'neutral', 'neutral', 'neutral', 'joy', 'neutral', 'neutral', 'non-neutral', 'neutral', 'non-neutral', 'neutral', 'neutral', 'neutral', 'neutral', 'non-neutral', 'joy', 'neutral', 'non-neutral', 'neutral', 'non-neutral', 'neutral', 'neutral', 'neutral', 'neutral', 'neutral', 'neutral', 'neutral', 'surprise', 'neutral', 'surprise', 'surprise', 'non-neutral', 'neutral', 'neutral', 'neutral', 'neutral', 'neutral', 'sadness', 'neutral', 'surprise', 'neutral', 'non-neutral', 'neutral', 'neutral', 'neutral', 'surprise', 'non-neutral', 'neutral', 'neutral', 'neutral', 'neutral', 'non-neutral', 'neutral', 'surprise', 'non-neutral', 'neutral', 'neutral', 'non-neutral', 'non-neutral', 'neutral', 'neutral', 'neutral', 'non-neutral', 'non-neutral', 'joy', 'neutral', 'neutral', 'neutral', 'neutral', 'joy', 'non-neutral', 'neutral', 'neutral', 'neutral', 'surprise', 'neutral', 'neutral', 'non-neutral', 'neutral', 'non-neutral', 'non-neutral', 'non-neutral', 'neutral', 'non-neutral', 'joy', 'neutral', 'neutral', 'non-neutral', 'neutral', 'neutral', 'neutral', 'neutral', 'neutral', 'surprise', 'neutral', 'neutral', 'surprise', 'neutral', 'neutral', 'surprise', 'neutral', 'neutral', 'joy', 'neutral', 'neutral', 'neutral', 'neutral', 'non-neutral', 'neutral', 'neutral', 'neutral', 'neutral', 'neutral', 'neutral', 'neutral', 'joy', 'surprise', 'surprise', 'neutral', 'neutral', 'neutral', 'non-neutral', 'neutral', 'neutral', 'neutral', 'neutral', 'neutral', 'non-neutral', 'neutral', 'joy', 'non-neutral', 'neutral', 'neutral', 'neutral', 'neutral', 'neutral', 'neutral', 'neutral', 'neutral', 'neutral', 'neutral', 'neutral', 'neutral', 'neutral', 'neutral', 'joy', 'joy', 'neutral', 'non-neutral', 'neutral', 'joy', 'surprise', 'non-neutral', 'neutral', 'neutral', 'neutral', 'neutral', 'neutral', 'neutral', 'neutral', 'surprise', 'neutral', 'non-neutral', 'non-neutral', 'neutral', 'neutral', 'neutral', 'neutral', 'neutral', 'surprise', 'neutral', 'non-neutral', 'neutral', 'surprise', 'neutral', 'neutral', 'non-neutral', 'surprise', 'non-neutral', 'neutral', 'non-neutral', 'neutral', 'sadness', 'neutral', 'neutral', 'neutral', 'neutral', 'neutral', 'neutral', 'neutral', 'neutral', 'surprise', 'neutral', 'neutral', 'non-neutral', 'neutral', 'neutral', 'neutral', 'neutral', 'neutral', 'non-neutral', 'non-neutral', 'neutral', 'joy', 'surprise', 'neutral', 'neutral', 'non-neutral', 'surprise', 'neutral', 'joy', 'surprise', 'surprise', 'sadness', 'neutral', 'joy', 'neutral', 'joy', 'neutral', 'non-neutral', 'neutral', 'non-neutral', 'non-neutral', 'neutral', 'neutral', 'neutral', 'neutral', 'neutral', 'neutral', 'neutral', 'surprise', 'neutral', 'joy', 'non-neutral', 'neutral', 'neutral', 'non-neutral', 'neutral', 'non-neutral', 'neutral', 'neutral', 'neutral', 'neutral', 'neutral', 'neutral', 'neutral', 'surprise', 'non-neutral', 'joy', 'non-neutral', 'neutral', 'non-neutral', 'neutral', 'neutral', 'joy', 'neutral', 'neutral', 'non-neutral', 'neutral', 'neutral', 'non-neutral', 'neutral', 'neutral', 'neutral', 'neutral', 'joy', 'neutral', 'joy', 'neutral', 'neutral', 'neutral', 'sadness', 'neutral', 'neutral', 'neutral', 'neutral', 'non-neutral', 'neutral', 'non-neutral', 'neutral', 'neutral', 'neutral', 'neutral', 'non-neutral', 'neutral', 'neutral', 'neutral', 'surprise', 'surprise', 'neutral', 'neutral', 'non-neutral', 'non-neutral', 'neutral', 'neutral', 'neutral', 'neutral', 'neutral', 'surprise', 'neutral', 'neutral', 'neutral', 'neutral', 'neutral', 'neutral', 'neutral', 'neutral', 'neutral', 'neutral', 'neutral', 'neutral', 'neutral', 'neutral', 'joy', 'neutral', 'neutral', 'surprise', 'neutral', 'joy', 'neutral', 'non-neutral', 'neutral', 'non-neutral', 'neutral', 'neutral', 'neutral', 'neutral', 'neutral', 'neutral', 'surprise', 'neutral', 'neutral', 'neutral', 'neutral', 'neutral', 'neutral', 'neutral', 'neutral', 'neutral', 'joy', 'non-neutral', 'neutral', 'neutral', 'neutral', 'neutral', 'sadness', 'neutral', 'neutral', 'neutral', 'neutral', 'non-neutral', 'non-neutral', 'neutral', 'neutral', 'neutral', 'neutral', 'neutral', 'non-neutral', 'neutral', 'neutral', 'neutral', 'neutral', 'non-neutral', 'neutral', 'neutral', 'non-neutral', 'joy', 'neutral', 'neutral', 'non-neutral', 'neutral', 'non-neutral', 'surprise', 'neutral', 'joy', 'neutral', 'non-neutral', 'neutral', 'neutral', 'neutral', 'neutral', 'neutral', 'neutral', 'neutral', 'neutral', 'non-neutral', 'neutral', 'neutral', 'non-neutral', 'non-neutral', 'neutral', 'neutral', 'neutral', 'neutral', 'neutral', 'neutral', 'neutral', 'non-neutral', 'joy', 'neutral', 'neutral', 'neutral', 'neutral', 'neutral', 'neutral', 'non-neutral', 'joy', 'neutral', 'neutral', 'joy', 'neutral', 'neutral', 'surprise', 'sadness', 'non-neutral', 'non-neutral', 'joy', 'surprise', 'neutral', 'neutral', 'neutral', 'surprise', 'neutral', 'neutral', 'neutral', 'non-neutral', 'neutral', 'neutral', 'neutral', 'neutral', 'neutral', 'surprise', 'neutral', 'neutral', 'sadness', 'neutral', 'neutral', 'neutral', 'neutral', 'neutral', 'neutral', 'neutral', 'neutral', 'neutral', 'neutral', 'neutral', 'joy', 'neutral', 'neutral', 'neutral', 'joy', 'neutral', 'sadness', 'neutral', 'joy', 'neutral', 'neutral', 'neutral', 'non-neutral', 'joy', 'joy', 'sadness', 'neutral', 'neutral', 'sadness', 'surprise', 'neutral', 'non-neutral', 'neutral', 'neutral', 'non-neutral', 'neutral', 'neutral', 'joy', 'joy', 'surprise', 'neutral', 'neutral', 'neutral', 'non-neutral', 'non-neutral', 'non-neutral', 'neutral', 'neutral', 'neutral', 'joy', 'neutral', 'neutral', 'surprise', 'neutral', 'neutral', 'neutral', 'neutral', 'non-neutral', 'non-neutral', 'neutral', 'neutral', 'sadness', 'joy', 'surprise', 'neutral', 'neutral', 'neutral', 'joy', 'neutral', 'joy', 'neutral', 'neutral', 'neutral', 'neutral', 'neutral', 'neutral', 'joy', 'neutral', 'non-neutral', 'neutral', 'neutral', 'neutral', 'joy', 'neutral', 'neutral', 'sadness', 'neutral', 'neutral', 'neutral', 'neutral', 'neutral', 'neutral', 'neutral', 'neutral', 'surprise', 'neutral', 'non-neutral', 'non-neutral', 'sadness', 'surprise', 'joy', 'joy', 'neutral', 'neutral', 'neutral', 'neutral', 'non-neutral', 'neutral', 'neutral', 'joy', 'joy', 'non-neutral', 'neutral', 'neutral', 'non-neutral', 'joy', 'neutral', 'neutral', 'neutral', 'joy', 'joy', 'surprise', 'neutral', 'neutral', 'neutral', 'surprise', 'neutral', 'neutral', 'neutral', 'neutral', 'neutral', 'neutral', 'non-neutral', 'neutral', 'surprise', 'neutral', 'non-neutral', 'neutral', 'non-neutral', 'neutral', 'joy', 'neutral', 'neutral', 'joy', 'neutral', 'neutral', 'non-neutral', 'non-neutral', 'neutral', 'non-neutral', 'neutral', 'neutral', 'surprise', 'neutral', 'neutral', 'neutral', 'neutral', 'neutral', 'neutral', 'surprise', 'non-neutral', 'neutral', 'joy', 'neutral', 'neutral', 'non-neutral', 'surprise', 'non-neutral', 'joy', 'surprise', 'neutral', 'non-neutral', 'joy', 'surprise', 'joy', 'neutral', 'neutral', 'non-neutral', 'neutral', 'non-neutral', 'non-neutral', 'non-neutral', 'surprise', 'surprise', 'neutral', 'neutral', 'non-neutral', 'non-neutral', 'neutral', 'neutral', 'neutral', 'neutral', 'joy', 'neutral', 'neutral', 'neutral', 'non-neutral', 'neutral', 'neutral', 'neutral', 'neutral', 'surprise', 'non-neutral', 'non-neutral', 'non-neutral', 'surprise', 'neutral', 'neutral', 'neutral', 'neutral', 'sadness', 'neutral', 'neutral', 'neutral', 'neutral', 'surprise', 'neutral', 'non-neutral', 'joy', 'neutral', 'neutral', 'neutral', 'neutral', 'neutral', 'neutral', 'neutral', 'neutral', 'non-neutral', 'neutral', 'neutral', 'neutral', 'neutral', 'neutral', 'neutral', 'neutral', 'neutral', 'surprise', 'non-neutral', 'surprise', 'neutral', 'neutral', 'neutral', 'neutral', 'neutral', 'neutral', 'neutral', 'neutral', 'neutral', 'neutral', 'sadness', 'neutral', 'non-neutral', 'neutral', 'neutral', 'neutral', 'neutral', 'neutral', 'non-neutral', 'neutral', 'neutral', 'non-neutral', 'neutral', 'neutral', 'joy', 'neutral', 'neutral', 'surprise', 'neutral', 'neutral', 'neutral', 'neutral', 'neutral', 'neutral', 'non-neutral', 'neutral', 'joy', 'neutral', 'neutral', 'neutral', 'surprise', 'surprise', 'neutral', 'non-neutral', 'non-neutral', 'non-neutral', 'neutral', 'joy', 'neutral', 'non-neutral', 'neutral', 'neutral', 'neutral', 'non-neutral', 'non-neutral', 'joy', 'neutral', 'non-neutral', 'joy', 'neutral', 'joy', 'joy', 'surprise', 'non-neutral', 'non-neutral', 'neutral', 'neutral', 'sadness', 'neutral', 'neutral', 'neutral', 'joy', 'neutral', 'neutral', 'neutral', 'non-neutral', 'non-neutral', 'neutral', 'joy', 'neutral', 'neutral', 'non-neutral', 'neutral', 'neutral', 'neutral', 'surprise', 'neutral', 'surprise', 'neutral', 'sadness', 'neutral', 'neutral', 'neutral', 'neutral', 'neutral', 'neutral', 'surprise', 'neutral', 'neutral', 'surprise', 'neutral', 'non-neutral', 'neutral', 'joy', 'non-neutral', 'neutral', 'neutral', 'surprise', 'neutral', 'surprise', 'neutral', 'neutral', 'neutral', 'neutral', 'neutral', 'surprise', 'non-neutral', 'neutral', 'neutral', 'neutral', 'neutral', 'neutral', 'neutral', 'non-neutral', 'neutral', 'neutral', 'non-neutral', 'non-neutral', 'surprise', 'neutral', 'sadness', 'surprise', 'surprise', 'neutral', 'non-neutral', 'neutral', 'neutral', 'non-neutral', 'joy', 'neutral', 'neutral', 'neutral', 'joy', 'joy', 'neutral', 'non-neutral', 'joy', 'non-neutral', 'neutral', 'neutral', 'non-neutral', 'neutral', 'neutral', 'neutral', 'neutral', 'neutral', 'neutral', 'neutral', 'neutral', 'neutral', 'non-neutral', 'neutral', 'non-neutral', 'non-neutral', 'neutral', 'neutral', 'neutral', 'neutral', 'neutral', 'neutral', 'neutral', 'neutral', 'neutral', 'neutral', 'non-neutral', 'joy', 'joy', 'non-neutral', 'neutral', 'joy', 'joy', 'neutral', 'neutral', 'neutral', 'neutral', 'neutral', 'non-neutral', 'non-neutral', 'neutral', 'joy', 'non-neutral', 'neutral', 'neutral', 'neutral', 'neutral', 'neutral', 'neutral', 'neutral', 'surprise', 'neutral', 'neutral', 'neutral', 'non-neutral', 'neutral', 'neutral', 'neutral', 'neutral', 'neutral', 'neutral', 'neutral', 'neutral', 'neutral', 'neutral', 'joy', 'neutral', 'neutral', 'joy', 'neutral', 'non-neutral', 'neutral', 'neutral', 'non-neutral', 'neutral', 'surprise', 'neutral', 'non-neutral', 'non-neutral', 'neutral', 'neutral', 'neutral', 'non-neutral', 'neutral', 'neutral', 'neutral', 'neutral', 'neutral', 'neutral', 'non-neutral', 'surprise', 'surprise', 'non-neutral', 'neutral', 'neutral', 'neutral', 'neutral', 'neutral', 'surprise', 'neutral', 'neutral', 'neutral', 'neutral', 'neutral', 'neutral', 'non-neutral', 'neutral', 'neutral', 'neutral', 'non-neutral', 'neutral', 'neutral', 'neutral', 'neutral', 'non-neutral', 'neutral', 'neutral', 'non-neutral', 'non-neutral', 'non-neutral', 'surprise', 'joy', 'neutral', 'neutral', 'neutral', 'neutral', 'neutral', 'neutral', 'neutral', 'neutral', 'neutral', 'neutral', 'neutral', 'neutral', 'neutral', 'neutral', 'neutral', 'neutral', 'neutral', 'surprise', 'neutral', 'neutral', 'surprise', 'non-neutral', 'neutral', 'neutral', 'neutral', 'neutral', 'neutral', 'neutral', 'neutral', 'neutral', 'neutral', 'surprise', 'neutral', 'non-neutral', 'neutral', 'neutral', 'non-neutral', 'neutral', 'surprise', 'neutral', 'non-neutral', 'neutral', 'neutral', 'neutral', 'neutral', 'neutral', 'neutral', 'neutral', 'neutral', 'non-neutral', 'neutral', 'neutral', 'joy', 'neutral', 'non-neutral', 'neutral', 'neutral', 'surprise', 'neutral', 'neutral', 'neutral', 'neutral', 'neutral', 'neutral', 'neutral', 'neutral', 'neutral', 'non-neutral', 'neutral', 'neutral', 'neutral', 'neutral', 'neutral', 'non-neutral', 'non-neutral', 'neutral', 'joy', 'neutral', 'neutral', 'neutral', 'non-neutral', 'joy', 'neutral', 'neutral', 'neutral', 'neutral', 'non-neutral', 'neutral', 'neutral', 'neutral', 'neutral', 'neutral', 'neutral', 'neutral', 'neutral', 'joy', 'neutral', 'joy', 'neutral', 'neutral', 'neutral', 'joy', 'neutral', 'neutral', 'joy', 'surprise', 'neutral', 'neutral', 'neutral', 'neutral', 'surprise', 'neutral', 'neutral', 'joy', 'neutral', 'neutral', 'joy', 'neutral', 'surprise', 'neutral', 'neutral', 'neutral', 'surprise', 'surprise', 'non-neutral', 'neutral', 'non-neutral', 'neutral', 'neutral', 'neutral', 'neutral', 'neutral', 'neutral', 'surprise', 'neutral', 'neutral', 'neutral', 'non-neutral', 'neutral', 'neutral', 'neutral', 'neutral', 'neutral', 'neutral', 'non-neutral', 'neutral', 'neutral', 'neutral', 'neutral', 'surprise', 'neutral', 'neutral', 'neutral', 'neutral', 'neutral', 'neutral', 'neutral', 'neutral', 'neutral', 'neutral', 'neutral', 'neutral', 'neutral', 'neutral', 'neutral', 'neutral', 'non-neutral', 'neutral', 'neutral', 'non-neutral', 'neutral', 'neutral', 'neutral', 'non-neutral', 'non-neutral', 'neutral', 'non-neutral', 'neutral', 'neutral', 'neutral', 'neutral', 'joy', 'joy', 'non-neutral', 'neutral', 'neutral', 'surprise', 'surprise', 'neutral', 'neutral', 'neutral', 'neutral', 'non-neutral', 'neutral', 'neutral', 'neutral', 'neutral', 'joy', 'neutral', 'neutral', 'neutral', 'neutral', 'neutral', 'surprise', 'joy', 'non-neutral', 'non-neutral', 'neutral', 'neutral', 'neutral', 'neutral', 'non-neutral', 'neutral', 'neutral', 'neutral', 'neutral', 'neutral', 'neutral', 'non-neutral', 'neutral', 'neutral', 'joy', 'neutral', 'neutral', 'sadness', 'neutral', 'neutral', 'non-neutral', 'neutral', 'neutral', 'non-neutral', 'non-neutral', 'non-neutral', 'non-neutral', 'neutral', 'neutral', 'neutral', 'neutral', 'non-neutral', 'neutral', 'neutral', 'neutral', 'neutral', 'neutral', 'neutral', 'non-neutral', 'neutral', 'neutral', 'neutral', 'neutral', 'neutral', 'neutral', 'neutral', 'neutral', 'neutral', 'surprise', 'neutral', 'neutral', 'neutral', 'surprise', 'neutral', 'neutral', 'neutral', 'neutral', 'neutral', 'neutral', 'neutral', 'neutral', 'neutral', 'neutral', 'neutral', 'neutral', 'joy', 'surprise', 'non-neutral', 'non-neutral', 'neutral', 'neutral', 'neutral', 'neutral', 'neutral', 'joy', 'non-neutral', 'non-neutral', 'neutral', 'neutral', 'surprise', 'neutral', 'neutral', 'neutral', 'neutral', 'joy', 'neutral', 'neutral', 'joy', 'neutral', 'neutral', 'neutral', 'surprise', 'surprise', 'neutral', 'joy', 'neutral', 'neutral', 'neutral', 'neutral', 'neutral', 'neutral', 'neutral', 'neutral', 'surprise', 'joy', 'neutral', 'neutral']\n"
          ],
          "name": "stdout"
        },
        {
          "output_type": "execute_result",
          "data": {
            "application/vnd.google.colaboratory.intrinsic": {
              "type": "string"
            },
            "text/plain": [
              "\"\\nimport csv\\nf = open('/content/drive/My Drive/Colab Notebooks/Friends/en_data.csv', 'r', encoding='utf-8')\\nrdr = csv.reader(f)\\n\\nsentences=[]\\nfor line in rdr:\\n  sentence = line[4]\\n  print(sentence)\\nf.close\\n\""
            ]
          },
          "metadata": {
            "tags": []
          },
          "execution_count": 13
        }
      ]
    }
  ]
}